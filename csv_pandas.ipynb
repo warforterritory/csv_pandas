{
 "cells": [
  {
   "cell_type": "code",
   "execution_count": 1,
   "metadata": {},
   "outputs": [],
   "source": [
    "import pandas as pd"
   ]
  },
  {
   "cell_type": "code",
   "execution_count": 3,
   "metadata": {},
   "outputs": [
    {
     "data": {
      "text/html": [
       "<div>\n",
       "<style scoped>\n",
       "    .dataframe tbody tr th:only-of-type {\n",
       "        vertical-align: middle;\n",
       "    }\n",
       "\n",
       "    .dataframe tbody tr th {\n",
       "        vertical-align: top;\n",
       "    }\n",
       "\n",
       "    .dataframe thead th {\n",
       "        text-align: right;\n",
       "    }\n",
       "</style>\n",
       "<table border=\"1\" class=\"dataframe\">\n",
       "  <thead>\n",
       "    <tr style=\"text-align: right;\">\n",
       "      <th></th>\n",
       "      <th>NOMBRE ORGANIZACIÓN</th>\n",
       "      <th>VIGENCIA DESDE</th>\n",
       "      <th>VIGENCIA HASTA</th>\n",
       "    </tr>\n",
       "  </thead>\n",
       "  <tbody>\n",
       "    <tr>\n",
       "      <th>0</th>\n",
       "      <td>JUNTA DE VECINOS  SUR PONIENTE</td>\n",
       "      <td>12-08-2018</td>\n",
       "      <td>12-08-2021</td>\n",
       "    </tr>\n",
       "    <tr>\n",
       "      <th>1</th>\n",
       "      <td>JUNTA DE VECINOS BUENA UNIÓN</td>\n",
       "      <td>27-10-2018</td>\n",
       "      <td>27-10-2021</td>\n",
       "    </tr>\n",
       "    <tr>\n",
       "      <th>2</th>\n",
       "      <td>JUNTA DE VECINOS LOS POETAS</td>\n",
       "      <td>22-12-2018</td>\n",
       "      <td>22-12-2021</td>\n",
       "    </tr>\n",
       "    <tr>\n",
       "      <th>3</th>\n",
       "      <td>JUNTA DE VECINOS BICENTENARIO</td>\n",
       "      <td>14-11-2018</td>\n",
       "      <td>14-11-2021</td>\n",
       "    </tr>\n",
       "    <tr>\n",
       "      <th>4</th>\n",
       "      <td>JUNTA DE VECINOS N° 17 TRES ESQUINAS</td>\n",
       "      <td>22-02-2016</td>\n",
       "      <td>22-02-2019</td>\n",
       "    </tr>\n",
       "  </tbody>\n",
       "</table>\n",
       "</div>"
      ],
      "text/plain": [
       "                   NOMBRE ORGANIZACIÓN  VIGENCIA DESDE VIGENCIA HASTA\n",
       "0        JUNTA DE VECINOS  SUR PONIENTE     12-08-2018     12-08-2021\n",
       "1          JUNTA DE VECINOS BUENA UNIÓN     27-10-2018     27-10-2021\n",
       "2           JUNTA DE VECINOS LOS POETAS     22-12-2018     22-12-2021\n",
       "3         JUNTA DE VECINOS BICENTENARIO     14-11-2018     14-11-2021\n",
       "4  JUNTA DE VECINOS N° 17 TRES ESQUINAS     22-02-2016     22-02-2019"
      ]
     },
     "execution_count": 3,
     "metadata": {},
     "output_type": "execute_result"
    }
   ],
   "source": [
    "csv_juntas_vecino_molina = \"http://datos.gob.cl/dataset/99dc5cfe-7ac7-451f-8a09-cd81adabc86a/resource/a9522abe-1c01-436c-8620-5c645606bb4b/download/orgnizac.-junta-de-vecinos.csv\"\n",
    "df_juntas_vecino_molina = pd.read_csv(csv_juntas_vecino_molina,sep=';')\n",
    "df_juntas_vecino_molina.head()"
   ]
  },
  {
   "cell_type": "code",
   "execution_count": null,
   "metadata": {},
   "outputs": [],
   "source": []
  }
 ],
 "metadata": {
  "kernelspec": {
   "display_name": "Python 3",
   "language": "python",
   "name": "python3"
  },
  "language_info": {
   "codemirror_mode": {
    "name": "ipython",
    "version": 3
   },
   "file_extension": ".py",
   "mimetype": "text/x-python",
   "name": "python",
   "nbconvert_exporter": "python",
   "pygments_lexer": "ipython3",
   "version": "3.7.3"
  }
 },
 "nbformat": 4,
 "nbformat_minor": 2
}
