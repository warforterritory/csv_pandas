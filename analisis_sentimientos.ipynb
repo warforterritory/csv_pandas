{
 "cells": [
  {
   "cell_type": "code",
   "execution_count": null,
   "id": "c17423f5",
   "metadata": {},
   "outputs": [],
   "source": [
    "import pandas as pd\n",
    "from unidecode import unidecode\n",
    "import nltk\n",
    "from nltk.sentiment.vader import SentimentIntensityAnalyzer\n",
    "import os\n",
    "import glob"
   ]
  },
  {
   "cell_type": "code",
   "execution_count": null,
   "id": "b0543a92",
   "metadata": {},
   "outputs": [],
   "source": [
    "# path que contiene los csv\n",
    "folder_path = './sentimientos/arkadia/join/'  # Change this to your folder path\n",
    "\n",
    "# listar todos los csv\n",
    "csv_files = glob.glob(os.path.join(folder_path, \"*.csv\"))\n",
    "\n",
    "# append de los csv\n",
    "df_list = []\n",
    "for file in csv_files:\n",
    "    df = pd.read_csv(file)\n",
    "    df_list.append(df)\n",
    "\n",
    "# concatenar csv\n",
    "merged_df = pd.concat(df_list, ignore_index=True)\n",
    "\n",
    "# guardar\n",
    "output_file = './sentimientos/arkadia/join/sentiments_competencia_arkadia.csv'  # Name your output file\n",
    "merged_df.to_csv(output_file, index=False)\n"
   ]
  },
  {
   "cell_type": "code",
   "execution_count": null,
   "id": "a0129868",
   "metadata": {},
   "outputs": [],
   "source": [
    "#Unidecode texto de reviews y nombres\n",
    "\n",
    "df = pd.read_csv('./sentimientos/arkadia/santafe_arkadia.csv')\n",
    "reviews_gmaps = df[['review_text','rating','review_timestamp', 'google_id','name','review_likes']]\n",
    "for column in df.columns:\n",
    "    reviews_gmaps['review_text'] = reviews_gmaps['review_text'].apply(lambda x: unidecode(str(x)) if isinstance(x, str) else x).astype(str)\n",
    "    reviews_gmaps['name'] = reviews_gmaps['name'].apply(lambda x: unidecode(str(x)) if isinstance(x, str) else x).astype(str)"
   ]
  },
  {
   "cell_type": "code",
   "execution_count": null,
   "id": "8d0b5577",
   "metadata": {},
   "outputs": [],
   "source": [
    "import pandas as pd\n",
    "from transformers import pipeline\n",
    "\n",
    "# Cargar un modelo pre-entrenado y la pipeline de análisis de sentimiento\n",
    "sentiment_pipeline = pipeline(\"sentiment-analysis\", model=\"nlptown/bert-base-multilingual-uncased-sentiment\")\n",
    "\n",
    "# Definir una función que aplica el análisis de sentimiento\n",
    "def analyze_sentiment(text):\n",
    "    result = sentiment_pipeline(text)[0]\n",
    "    return result['label']\n",
    "\n",
    "# Aplicar la función al DataFrame\n",
    "reviews_gmaps['sentiment'] = reviews_gmaps['review_text'].apply(analyze_sentiment)\n",
    "\n",
    "reviews_gmaps"
   ]
  },
  {
   "cell_type": "code",
   "execution_count": null,
   "id": "35c731aa",
   "metadata": {},
   "outputs": [],
   "source": [
    "reviews_gmaps.to_csv('./sentimientos/arkadia/sentiments_santafe_arkadia.csv', index = False)"
   ]
  },
  {
   "cell_type": "markdown",
   "id": "0db7417f",
   "metadata": {},
   "source": [
    "## Reviews per hour"
   ]
  },
  {
   "cell_type": "code",
   "execution_count": null,
   "id": "1bdc93e2",
   "metadata": {},
   "outputs": [],
   "source": [
    "#Timestamp reviews\n",
    "\n",
    "reviews_gmaps = pd.read_csv('./sentimientos/arkadia/join/sentiments_competencia_arkadia.csv')\n",
    "reviews_gmaps['date'] = pd.to_datetime(reviews_gmaps['review_timestamp'], unit='s')\n",
    "reviews_gmaps['timestamp'] = reviews_gmaps['date'].dt.strftime('%Y-%m-%d %H:%M:%S').astype(str)\n",
    "reviews_gmaps['hour'] = reviews_gmaps.apply(lambda row: row.timestamp.split(' ')[1].split(':')[0].strip(), axis=1)\n",
    "reviews_gmaps['year'] = reviews_gmaps.apply(lambda row: row.timestamp.split(' ')[0].split('-')[0].strip(), axis=1)\n",
    "reviews_gmaps['month'] = reviews_gmaps.apply(lambda row: row.timestamp.split(' ')[0].split('-')[1].strip(), axis=1)"
   ]
  },
  {
   "cell_type": "code",
   "execution_count": null,
   "id": "89447778",
   "metadata": {},
   "outputs": [],
   "source": [
    "conteos = reviews_gmaps['name'].value_counts()\n",
    "\n",
    "# Convertimos el conteo en un DataFrame.\n",
    "df_conteos = conteos.reset_index()\n",
    "df_conteos.columns = ['name', 'total']\n",
    "\n",
    "# Ahora df_conteos es el DataFrame que contiene los nombres y el total de veces que se repiten.\n",
    "print(df_conteos)\n",
    "df_conteos.to_csv(f'./sentimientos/valuecount/fontanar/valuecount_santafe_fontanar.csv', index = False)"
   ]
  },
  {
   "cell_type": "code",
   "execution_count": null,
   "id": "4ce8e7ae",
   "metadata": {},
   "outputs": [],
   "source": [
    "ds = [\"%.2d\" % i for i in range(7,12)][1:]"
   ]
  },
  {
   "cell_type": "code",
   "execution_count": null,
   "id": "fbee7d4c",
   "metadata": {},
   "outputs": [],
   "source": [
    "# Contamos las ocurrencias de cada nombre en la columna 'name'.\n",
    "for d_ in ds:\n",
    "    \n",
    "    reviews_month = reviews_gmaps.loc[reviews_gmaps['month'] == d_]\n",
    "    conteos = reviews_month['name'].value_counts()\n",
    "\n",
    "    # Convertimos el conteo en un DataFrame.\n",
    "    df_conteos = conteos.reset_index()\n",
    "    df_conteos.columns = ['name', 'total']\n",
    "\n",
    "    # Ahora df_conteos es el DataFrame que contiene los nombres y el total de veces que se repiten.\n",
    "    print(df_conteos)\n",
    "    df_conteos.to_csv(f'./sentimientos/valuecount/arkadia/valuecount_arkadia_{d_}.csv', index = False)"
   ]
  },
  {
   "cell_type": "code",
   "execution_count": null,
   "id": "73d5a6a8",
   "metadata": {},
   "outputs": [],
   "source": [
    "# extracting hour of the review\n",
    "reviews_gmaps = pd.read_csv('./sentimientos/sentiments_arkadia.csv')\n",
    "reviews_gmaps['date'] = pd.to_datetime(reviews_gmaps['review_timestamp'], unit='s')\n",
    "reviews_gmaps['timestamp'] = reviews_gmaps['date'].dt.strftime('%Y-%m-%d %H:%M:%S').astype(str)\n",
    "reviews_gmaps['hour'] = reviews_gmaps.apply(lambda row: row.timestamp.split(' ')[1].split(':')[0].strip(), axis=1)\n",
    "reviews_gmaps['year'] = reviews_gmaps.apply(lambda row: row.timestamp.split(' ')[0].split('-')[0].strip(), axis=1)\n",
    "reviews_gmaps['month'] = reviews_gmaps.apply(lambda row: row.timestamp.split(' ')[0].split('-')[1].strip(), axis=1)\n",
    "list_centros = list(reviews_gmaps.name.unique())"
   ]
  },
  {
   "cell_type": "markdown",
   "id": "a67e876b",
   "metadata": {},
   "source": [
    "## Grafico"
   ]
  },
  {
   "cell_type": "code",
   "execution_count": null,
   "id": "c930a85e",
   "metadata": {},
   "outputs": [],
   "source": [
    "#reviews_gmaps = pd.read_csv('./sentimientos/sentiments_arkadia.csv')\n"
   ]
  },
  {
   "cell_type": "code",
   "execution_count": null,
   "id": "efca45c6",
   "metadata": {},
   "outputs": [],
   "source": [
    "list_centros"
   ]
  },
  {
   "cell_type": "code",
   "execution_count": null,
   "id": "b37516cd",
   "metadata": {},
   "outputs": [],
   "source": [
    "# Suponiendo que list_centros es una lista de nombres de centros y\n",
    "# reviews_gmaps es un DataFrame que contiene las columnas 'name' y 'hour'\n",
    "\n",
    "for centro in list_centros:\n",
    "    # Filtrar el DataFrame para el centro actual en la iteración\n",
    "    reviews_centro = reviews_gmaps[reviews_gmaps['name'] == centro]\n",
    "    # Contar los valores únicos en la columna 'hour'\n",
    "    conteo_valores = reviews_centro['sentiment'].value_counts().sort_index()\n",
    "\n",
    "    # Crear el gráfico de barras usando Seaborn\n",
    "    plt.figure(figsize=(10, 6))\n",
    "    sns.barplot(x=conteo_valores.index, y=conteo_valores.values, color='skyblue')\n",
    "\n",
    "    # Personalizar el gráfico (etiquetas, título, etc.)\n",
    "    plt.xlabel('Estrellas')\n",
    "    plt.ylabel('Frecuencia')\n",
    "    plt.title(f'Frecuencia de reviews por estrellas para {centro}')\n",
    "\n",
    "    # Mostrar el gráfico\n",
    "    plt.savefig(f'./sentimientos/graficos/arkadia/sentimientos/{centro}.jpg', dpi=300)\n",
    "    #plt.show()"
   ]
  },
  {
   "cell_type": "code",
   "execution_count": null,
   "id": "45e5ad92",
   "metadata": {},
   "outputs": [],
   "source": [
    "import seaborn as sns\n",
    "import matplotlib.pyplot as plt\n",
    "\n",
    "# Supongamos que df es tu DataFrame y \"datos\" es la columna que deseas representar\n",
    "# Puedes contar los valores únicos en la columna usando value_counts()\n",
    "\n",
    "conteo_valores = reviews_gmaps['hour'].value_counts().sort_index()\n",
    "\n",
    "# Crear el gráfico de barras usando Seaborn\n",
    "plt.figure(figsize=(10, 6))\n",
    "\n",
    "sns.barplot(x=conteo_valores.index, y=conteo_valores.values, color='orange')\n",
    "\n",
    "# Personalizar el gráfico (etiquetas, título, etc.)\n",
    "plt.xlabel('hora')\n",
    "plt.ylabel('Frecuencia')\n",
    "plt.title('freq')\n",
    "\n",
    "# Mostrar el gráfico\n",
    "plt.show()"
   ]
  },
  {
   "cell_type": "code",
   "execution_count": null,
   "id": "0c7cc711",
   "metadata": {},
   "outputs": [],
   "source": []
  },
  {
   "cell_type": "code",
   "execution_count": null,
   "id": "3593a7a1",
   "metadata": {},
   "outputs": [],
   "source": []
  }
 ],
 "metadata": {
  "kernelspec": {
   "display_name": "Python 3 (ipykernel)",
   "language": "python",
   "name": "python3"
  },
  "language_info": {
   "codemirror_mode": {
    "name": "ipython",
    "version": 3
   },
   "file_extension": ".py",
   "mimetype": "text/x-python",
   "name": "python",
   "nbconvert_exporter": "python",
   "pygments_lexer": "ipython3",
   "version": "3.10.0"
  }
 },
 "nbformat": 4,
 "nbformat_minor": 5
}
